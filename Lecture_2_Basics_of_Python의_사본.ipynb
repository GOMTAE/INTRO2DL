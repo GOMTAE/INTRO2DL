{
  "nbformat": 4,
  "nbformat_minor": 0,
  "metadata": {
    "colab": {
      "name": "Lecture_2_Basics of Python의 사본",
      "provenance": [],
      "collapsed_sections": [
        "GB_dZ4eKDmwA"
      ],
      "include_colab_link": true
    },
    "kernelspec": {
      "name": "python3",
      "display_name": "Python 3"
    }
  },
  "cells": [
    {
      "cell_type": "markdown",
      "metadata": {
        "id": "view-in-github",
        "colab_type": "text"
      },
      "source": [
        "<a href=\"https://colab.research.google.com/github/GOMTAE/INTRO2DL/blob/main/Lecture_2_Basics_of_Python%EC%9D%98_%EC%82%AC%EB%B3%B8.ipynb\" target=\"_parent\"><img src=\"https://colab.research.google.com/assets/colab-badge.svg\" alt=\"Open In Colab\"/></a>"
      ]
    },
    {
      "cell_type": "markdown",
      "metadata": {
        "id": "GB_dZ4eKDmwA"
      },
      "source": [
        "### SOURCE OF THIS TUTORIAL : https://docs.python.org/3/tutorial/introduction.html"
      ]
    },
    {
      "cell_type": "markdown",
      "metadata": {
        "id": "XcHcYc2SBCsY"
      },
      "source": [
        "### print function \n",
        "- print(some value you want to see) \n",
        "- In python 3, you must use \"( )\" for printing."
      ]
    },
    {
      "cell_type": "code",
      "metadata": {
        "id": "15UjtD8rCQUN",
        "outputId": "b1bb2eca-9c93-440f-e2b9-7af13164dac2",
        "colab": {
          "base_uri": "https://localhost:8080/"
        }
      },
      "source": [
        "course_name = \"Introduction to Deep Learning\" # string variable \"strings you want\"\n",
        "num_courses = 10\n",
        "float_courses = 3.14\n",
        "\n",
        "print(type(num_courses))\n",
        "\n",
        "### Simple print function\n",
        "print('Hello world!')\n",
        "\n",
        "### ADD STRING WITH '+' OPERATION\n",
        "print('Hello and welcome to ' + course_name)\n",
        "\n",
        "course_name = 'Machine learning for ROBOTICS'\n",
        "### OR ADD WITH {} AND 'format' function\n",
        "print('The course\\'s name is \\\"{}\\\"'.format(course_name))\n",
        "print('The course\\'s name is \\\"{}\\\"'.format(num_courses))\n",
        "print('The course name {}, consists of {} lectures'.format(course_name, num_courses))\n",
        "### OR use %s (strings) %d (integer) %f (float) ...\n",
        "print('In %s course, we will learn various things! In total, %d courses will be provided %f.' %(course_name, num_courses,float_courses))"
      ],
      "execution_count": 7,
      "outputs": [
        {
          "output_type": "stream",
          "text": [
            "<class 'int'>\n",
            "Hello world!\n",
            "Hello and welcome to Introduction to Deep Learning\n",
            "The course's name is \"Machine learning for ROBOTICS\"\n",
            "The course's name is \"10\"\n",
            "The course name Machine learning for ROBOTICS, consists of 10 lectures\n",
            "In Machine learning for ROBOTICS course, we will learn various things! In total, 10 courses will be provided 3.140000.\n"
          ],
          "name": "stdout"
        }
      ]
    },
    {
      "cell_type": "markdown",
      "metadata": {
        "id": "WcxlRgL2DfBV"
      },
      "source": [
        "### Python as a Calculator\n"
      ]
    },
    {
      "cell_type": "code",
      "metadata": {
        "id": "DUXC3JC7Dfoh",
        "outputId": "46185e7f-65d4-4d58-a8a6-731128cb841a",
        "colab": {
          "base_uri": "https://localhost:8080/"
        }
      },
      "source": [
        "print(2+2)\n",
        "print(50-5*6)\n",
        "print()\n",
        "\n",
        "## Difference from Python 2 and Python 3 : division always makes the float result\n",
        "print(18/5)\n",
        "print()\n",
        "\n",
        "## Use // for generating integer result after division. \n",
        "print(18//5)\n",
        "print()\n",
        "\n",
        "## % for get the reminder of the division\n",
        "print(100 % 11)\n",
        "print()\n",
        "\n",
        "## ** for power. \n",
        "print(10 ** 2)\n",
        "print(10 ** 3)"
      ],
      "execution_count": 11,
      "outputs": [
        {
          "output_type": "stream",
          "text": [
            "4\n",
            "20\n",
            "\n",
            "3.6\n",
            "\n",
            "3\n",
            "\n",
            "1\n",
            "\n",
            "100\n",
            "1000\n"
          ],
          "name": "stdout"
        }
      ]
    },
    {
      "cell_type": "code",
      "metadata": {
        "id": "FNrpqYI7irDS"
      },
      "source": [
        ""
      ],
      "execution_count": null,
      "outputs": []
    },
    {
      "cell_type": "markdown",
      "metadata": {
        "id": "upefgL9eE-HR"
      },
      "source": [
        "### Some useful string operations\n",
        "- s1.split()\n",
        "-s1.join()\n",
        "-s1.lower() and s1.upper()\n",
        "\n",
        "### Indexing in the string (list)\n",
        "```\n",
        " +---+---+---+---+---+---+\n",
        " | P | y | t | h | o | n | \n",
        " +---+---+---+---+---+---+ \n",
        " 0   1   2   3   4   5   6\n",
        "-6  -5  -4  -3  -2  -1\n",
        "```\n",
        "\n",
        "\n"
      ]
    },
    {
      "cell_type": "code",
      "metadata": {
        "id": "idLcjC3IE-p0",
        "outputId": "610c903a-57a3-47ab-993e-e34c5559f7fb",
        "colab": {
          "base_uri": "https://localhost:8080/"
        }
      },
      "source": [
        "## Split the string! the default is spliting with space\n",
        "curr_str = \"It is the string for you! / Thanks a lot\"\n",
        "# print(curr_str.split())\n",
        "# print(curr_str.split('!'))\n",
        "print(curr_str.split('/'))\n",
        "# print()\n",
        "file_path = '/use/local/bin/python3'\n",
        "print(file_path.split('/'))\n",
        "\n",
        "## Join the strings in the list. s1.join(L) would make L[0] + s1 + L[1] + s1 + .... \n",
        "curr_char = ['w', 'h', 'a', 't', 'i', 's', 't', 'h', 'i', 's']\n",
        "print(' '.join(curr_char)) # between the elements\n",
        "print(''.join(curr_char))\n",
        "print('HHH'.join(curr_char))\n",
        "print()\n",
        "\n",
        "## String to lower / upper cases\n",
        "print(curr_str.lower())\n",
        "print(curr_str.upper())\n",
        "print()\n",
        "\n",
        "curr_str = \"ABCDEFGHIJKLMN\"\n",
        "\n",
        "## String can be indexed like a list (wait but what is the list?)!\n",
        "print(curr_str[0])\n",
        "print(curr_str[1])\n",
        "print(curr_str[0:2])\n",
        "print(curr_str[-1])\n",
        "print(curr_str[-2])\n"
      ],
      "execution_count": 17,
      "outputs": [
        {
          "output_type": "stream",
          "text": [
            "['It is the string for you! ', ' Thanks a lot']\n",
            "['', 'use', 'local', 'bin', 'python3']\n",
            "w h a t i s t h i s\n",
            "whatisthis\n",
            "wHHHhHHHaHHHtHHHiHHHsHHHtHHHhHHHiHHHs\n",
            "\n",
            "it is the string for you! / thanks a lot\n",
            "IT IS THE STRING FOR YOU! / THANKS A LOT\n",
            "\n",
            "A\n",
            "B\n",
            "AB\n",
            "N\n",
            "M\n"
          ],
          "name": "stdout"
        }
      ]
    },
    {
      "cell_type": "markdown",
      "metadata": {
        "id": "7usbvvjsHCL2"
      },
      "source": [
        "### List in Python : group other values together!\n",
        "- Watch out for the indexing \n",
        "    - it starts from 0 1 2... \n",
        "    - If you want to go backward, it is -1, -2, -3, ....\n",
        "- L[a:b]\n",
        "    - slice the list \"L\" from a to b-1. Number of the elements will be \"b-a\"\n",
        "- L1 + L2\n",
        "    - Concatenating two list L1 and L2\n",
        "- L.append(element)\n",
        "    - Add the element at the end of L. The length of L will be increased.\n",
        "- len(L)\n",
        "    - Number of elements inside the List L\n"
      ]
    },
    {
      "cell_type": "code",
      "metadata": {
        "id": "M_1yAlD0HCrA",
        "outputId": "3ef79d18-8a59-4c39-eeac-f4a9d54bc766",
        "colab": {
          "base_uri": "https://localhost:8080/"
        }
      },
      "source": [
        "my_list = [0, 1, 2, 'a', 'b', 'c']\n",
        "your_list = [3, 4, 5, 'd', 'e', 'f']\n",
        "\n",
        "print(my_list, 'List can include elements from different types')\n",
        "print('Length of list : {}'.format(len(my_list)))\n",
        "len(my_list)\n",
        "print()\n",
        "\n",
        "## Watch out for orders\n",
        "print(my_list[0])\n",
        "print(my_list[1])\n",
        "print(my_list[2])\n",
        "print(my_list[-1])\n",
        "print(my_list[-2])\n",
        "print(my_list[-3])\n",
        "print()\n",
        "\n",
        "## adding two list make concatenation\n",
        "concat_list = my_list + your_list\n",
        "print(concat_list)\n",
        "print([my_list[i] + your_list[i] for i in range(len(my_list))])\n",
        "\n",
        "## List can contain other list as element\n",
        "super_list = [my_list, your_list, [\"new!\"]]\n",
        "print(super_list[2])\n",
        "print()\n",
        "\n",
        "print(concat_list)\n",
        "## add an element to total_list\n",
        "concat_list.append('NEW FRIEND')\n",
        "print(concat_list)\n",
        "print()\n",
        "\n",
        "## Delete the element of list\n",
        "del concat_list[-1]\n",
        "print(concat_list)\n",
        "print()\n",
        "\n",
        "# numbers = []\n",
        "# for i in range(10):\n",
        "#   print(i)\n",
        "#   numbers.append(i)\n",
        "# print(numbers)\n",
        "\n",
        "numbers = [i for i in range(10)]\n",
        "print(numbers)\n",
        "\n",
        "## Delete the some part of the list\n",
        "concat_list[0:3] = []\n",
        "print(concat_list)\n",
        "print()\n",
        "\n",
        "print(concat_list.index('d')+1)\n",
        "\n",
        "## find the INDEX of the element!\n",
        "print('3 is at the {}th order in concat_list'.format( concat_list.index(3) + 1 ) )"
      ],
      "execution_count": 27,
      "outputs": [
        {
          "output_type": "stream",
          "text": [
            "[0, 1, 2, 'a', 'b', 'c'] List can include elements from different types\n",
            "Length of list : 6\n",
            "\n",
            "0\n",
            "1\n",
            "2\n",
            "c\n",
            "b\n",
            "a\n",
            "\n",
            "[0, 1, 2, 'a', 'b', 'c', 3, 4, 5, 'd', 'e', 'f']\n",
            "[3, 5, 7, 'ad', 'be', 'cf']\n",
            "['new!']\n",
            "\n",
            "[0, 1, 2, 'a', 'b', 'c', 3, 4, 5, 'd', 'e', 'f']\n",
            "[0, 1, 2, 'a', 'b', 'c', 3, 4, 5, 'd', 'e', 'f', 'NEW FRIEND']\n",
            "\n",
            "[0, 1, 2, 'a', 'b', 'c', 3, 4, 5, 'd', 'e', 'f']\n",
            "\n",
            "[0, 1, 2, 3, 4, 5, 6, 7, 8, 9]\n",
            "['a', 'b', 'c', 3, 4, 5, 'd', 'e', 'f']\n",
            "\n",
            "7\n",
            "3 is at the 4th order in concat_list\n"
          ],
          "name": "stdout"
        }
      ]
    },
    {
      "cell_type": "markdown",
      "metadata": {
        "id": "9lIdn_sQHEVc"
      },
      "source": [
        "### Dictionary in Python! \n",
        "- map 'key' with 'value'\n",
        "- D['key'] = value"
      ]
    },
    {
      "cell_type": "code",
      "metadata": {
        "id": "G-zs7_QsKgrw",
        "outputId": "1071df42-df4b-43e9-8a0c-ff82cb32b31f",
        "colab": {
          "base_uri": "https://localhost:8080/"
        }
      },
      "source": [
        "## DEFINE SOME DICTIONARY\n",
        "deep_learning_tools = dict()\n",
        "deep_learning_tools['Google'] = 'Tensorflow'\n",
        "deep_learning_tools['Facebook'] = 'PyTorch'\n",
        "deep_learning_tools['Apache'] = 'MXNet'\n",
        "\n",
        "# print(deep_learning_tools)\n",
        "print(deep_learning_tools.keys())\n",
        "print(deep_learning_tools.values())\n",
        "print()\n",
        "\n",
        "## Iterate with key and values!\n",
        "for k, v in deep_learning_tools.items():\n",
        "    print('{} \\t ----> \\t  {}'.format(k, v))\n",
        "print()\n",
        "\n",
        "## print the length\n",
        "print('Length of this dictionary : {}'.format(len(deep_learning_tools)))\n",
        "\n",
        "## Some defenition of functions to copy the dictionary?\n",
        "def copy_dict(original_dict):\n",
        "    return {k: v for k, v in original_dict.items()}\n",
        "print()\n",
        "\n",
        "# [ ] <= list\n",
        "# { } <= dictionary\n",
        "\n",
        "## return the copied dictionary\n",
        "print('COPIED : ', copy_dict(deep_learning_tools))\n",
        "\n",
        "## OTHERWISE,\n",
        "## import copy \n",
        "## copied_dict = copy.deepcopy(deep_learning_tools)"
      ],
      "execution_count": 30,
      "outputs": [
        {
          "output_type": "stream",
          "text": [
            "dict_keys(['Google', 'Facebook', 'Apache'])\n",
            "dict_values(['Tensorflow', 'PyTorch', 'MXNet'])\n",
            "\n",
            "Google \t ----> \t  Tensorflow\n",
            "Facebook \t ----> \t  PyTorch\n",
            "Apache \t ----> \t  MXNet\n",
            "\n",
            "Length of this dictionary : 3\n",
            "\n",
            "COPIED :  {'Google': 'Tensorflow', 'Facebook': 'PyTorch', 'Apache': 'MXNet'}\n"
          ],
          "name": "stdout"
        }
      ]
    },
    {
      "cell_type": "markdown",
      "metadata": {
        "id": "h9exIbQwKhG4"
      },
      "source": [
        "### If statement\n",
        "- Consists of **if, elif, else**.\n",
        "```\n",
        "if (some condition) :\n",
        "    do something you want\n",
        "elif (another condition) :\n",
        "    do another thing you want\n",
        "else: \n",
        "    do others you want\n",
        "```\n",
        "- Always add ' : ' !\n",
        "- Grammar real English"
      ]
    },
    {
      "cell_type": "code",
      "metadata": {
        "id": "64jJNAzopWc0",
        "outputId": "2150d54b-8fff-47e7-b624-d9ad71be50ad",
        "colab": {
          "base_uri": "https://localhost:8080/"
        }
      },
      "source": [
        "test_int = 2\n",
        "if test_int == 1:\n",
        "  print(\"It is one\")\n",
        "else:\n",
        "  print(\"hehe\")\n",
        "# python understands code based on indentation"
      ],
      "execution_count": 34,
      "outputs": [
        {
          "output_type": "stream",
          "text": [
            "hehe\n"
          ],
          "name": "stdout"
        }
      ]
    },
    {
      "cell_type": "code",
      "metadata": {
        "id": "GJU5LEUbNc-F",
        "outputId": "309e6a77-5a1c-418b-de89-5d4830071b9b",
        "colab": {
          "base_uri": "https://localhost:8080/"
        }
      },
      "source": [
        "input_int = int(input('Enter your positive integer value! : '))\n",
        "if input_int < 0:\n",
        "    print('NEGATIVE INTEGER!')\n",
        "else:\n",
        "    if input_int % 5 == 0:\n",
        "        print('This integer can be divided by 5')\n",
        "    elif input_int % 5 == 1:\n",
        "        print('This integer leaves 1 after divided by 5')\n",
        "    else:\n",
        "        print('This interger leaves value larger than 1 after divided by 3')\n",
        "        "
      ],
      "execution_count": 35,
      "outputs": [
        {
          "output_type": "stream",
          "text": [
            "Enter your positive integer value! : 3\n",
            "This interger leaves value larger than 1 after divided by 3\n"
          ],
          "name": "stdout"
        }
      ]
    },
    {
      "cell_type": "markdown",
      "metadata": {
        "id": "fx3n3HSmNdV3"
      },
      "source": [
        "### For statement and RANGE\n",
        "```\n",
        "for (something) in (something that can be iterated):\n",
        "    do what you want with (something)\n",
        "```\n",
        "```\n",
        "for idx in range(start, end, stride):\n",
        "    idx would be start, start+stride, start+2*stride .....\n",
        "```\n",
        "* Always add ' : ' !\n",
        "* Grammar like English"
      ]
    },
    {
      "cell_type": "code",
      "metadata": {
        "id": "K0h3p5jHKhRw",
        "outputId": "7b39cba8-d215-4a2e-bad9-e9728830631e",
        "colab": {
          "base_uri": "https://localhost:8080/"
        }
      },
      "source": [
        "alphabet = ['a', 'b', 'c', 'd', 'e', 'f', 'g', 'h', 'i']\n",
        "for char in alphabet:\n",
        "    print(char)\n",
        "print()\n",
        "\n",
        "for char_idx, char in enumerate(alphabet):\n",
        "    print(char_idx, char)\n",
        "print()\n",
        "\n",
        "\n",
        "start_idx = 1\n",
        "end_idx = 10\n",
        "stride = 3\n",
        "\n",
        "for idx in range(start_idx, end_idx, stride):\n",
        "    print(alphabet[idx])\n",
        "print()\n",
        "\n",
        "for char in alphabet[start_idx:end_idx:stride]:\n",
        "    print(char)\n",
        "print()\n",
        "\n",
        "print('Last character to be called : ' + char)\n",
        "print()\n",
        "\n",
        "for i in range(2):\n",
        "    for j in range(10):\n",
        "        value = i * 10 + j\n",
        "        if i == 1 and j == 5:\n",
        "            print('I want this number : '+str(value))\n",
        "            break\n",
        "        else:\n",
        "            print(value)"
      ],
      "execution_count": 38,
      "outputs": [
        {
          "output_type": "stream",
          "text": [
            "a\n",
            "b\n",
            "c\n",
            "d\n",
            "e\n",
            "f\n",
            "g\n",
            "h\n",
            "i\n",
            "\n",
            "0 a\n",
            "1 b\n",
            "2 c\n",
            "3 d\n",
            "4 e\n",
            "5 f\n",
            "6 g\n",
            "7 h\n",
            "8 i\n",
            "\n",
            "b\n",
            "e\n",
            "h\n",
            "\n",
            "b\n",
            "e\n",
            "h\n",
            "\n",
            "Last character to be called : h\n",
            "\n",
            "0\n",
            "1\n",
            "2\n",
            "3\n",
            "4\n",
            "5\n",
            "6\n",
            "7\n",
            "8\n",
            "9\n",
            "10\n",
            "11\n",
            "12\n",
            "13\n",
            "14\n",
            "I want this number : 15\n"
          ],
          "name": "stdout"
        }
      ]
    },
    {
      "cell_type": "code",
      "metadata": {
        "id": "fs6sHxhbRlcd",
        "outputId": "00081ddd-2903-4cf7-e4c6-f76d9862ed8e",
        "colab": {
          "base_uri": "https://localhost:8080/"
        }
      },
      "source": [
        "## Some tricks to make a list\n",
        "print([x for x in range(10)])\n",
        "print([x for x in range(10) if x % 2 == 0])\n",
        "print([x**2 for x in range(10) if x % 2 is 1])\n",
        "print()\n",
        "\n",
        "## Some useful operations for the list\n",
        "curr_list = [2, 5, 1, 3, 0, 8, 9, 9, 10, 10]\n",
        "# curr_list = ['b', 'd', 't', 's', 'h', 'a']\n",
        "print('Current List : ', curr_list)\n",
        "print('Sum of list : {}'.format(sum(curr_list)))\n",
        "print('Max of list : {}'.format(max(curr_list)))\n",
        "print('Min of list : {}'.format(min(curr_list)))\n",
        "print('Sorted List : ', sorted(curr_list))\n",
        "print('Unique set : ', set(curr_list))"
      ],
      "execution_count": null,
      "outputs": [
        {
          "output_type": "stream",
          "text": [
            "[0, 1, 2, 3, 4, 5, 6, 7, 8, 9]\n",
            "[0, 2, 4, 6, 8]\n",
            "[1, 9, 25, 49, 81]\n",
            "\n",
            "Current List :  [2, 5, 1, 3, 0, 8, 9, 9, 10, 10]\n",
            "Sum of list : 57\n",
            "Max of list : 10\n",
            "Min of list : 0\n",
            "Sorted List :  [0, 1, 2, 3, 5, 8, 9, 9, 10, 10]\n",
            "Unique set :  {0, 1, 2, 3, 5, 8, 9, 10}\n"
          ],
          "name": "stdout"
        }
      ]
    },
    {
      "cell_type": "markdown",
      "metadata": {
        "id": "mTN2aG2zHEhn"
      },
      "source": [
        "### While statement\n",
        "```\n",
        "while (some condition to keep this while loop) :\n",
        "    do something you want\n",
        "```"
      ]
    },
    {
      "cell_type": "code",
      "metadata": {
        "id": "0n2xqZI2T9Kw",
        "outputId": "01ed7f7d-74ca-4dbf-ea04-bafc959d50c2",
        "colab": {
          "base_uri": "https://localhost:8080/"
        }
      },
      "source": [
        "cnt = 0\n",
        "limit = 10\n",
        "middle_point = 5\n",
        "\n",
        "while cnt < limit:\n",
        "    print('Current Counter : ', cnt)\n",
        "    if cnt is middle_point:\n",
        "        print('STOP')\n",
        "        break\n",
        "    # always care about infinite loop!\n",
        "    cnt += 1\n",
        "\n",
        "print('Final Counter : ', cnt)"
      ],
      "execution_count": null,
      "outputs": [
        {
          "output_type": "stream",
          "text": [
            "Current Counter :  0\n",
            "Current Counter :  1\n",
            "Current Counter :  2\n",
            "Current Counter :  3\n",
            "Current Counter :  4\n",
            "Current Counter :  5\n",
            "STOP\n",
            "Final Counter :  5\n"
          ],
          "name": "stdout"
        }
      ]
    },
    {
      "cell_type": "markdown",
      "metadata": {
        "id": "3-g8AAI9T9R3"
      },
      "source": [
        "### Function Definition\n",
        "```\n",
        "def Name_of_Function(input1, input2, input3, ...) : \n",
        "    do something with input1, input2, input3,...\n",
        "    return something_you_want\n",
        "```"
      ]
    },
    {
      "cell_type": "code",
      "metadata": {
        "id": "pZOYBcZGUuBB"
      },
      "source": [
        "def Fibonacci(index):\n",
        "    '''\n",
        "    input : Generate a list until (index)-th of Fibonacci number.\n",
        "    '''\n",
        "    result = [1, 1]\n",
        "    if index < 1:\n",
        "        raise ValueError('Give the valid index, please')\n",
        "        return []\n",
        "\n",
        "    elif 1 <= index <= 2:\n",
        "        return result[:index]\n",
        "\n",
        "    else:\n",
        "        result = [1, 1]\n",
        "        for i in range(index-2):\n",
        "            result.append(result[-1]+result[-2])\n",
        "\n",
        "    return result"
      ],
      "execution_count": 41,
      "outputs": []
    },
    {
      "cell_type": "code",
      "metadata": {
        "id": "T4cr2IV4UuIa",
        "outputId": "bf0751f4-975f-44dd-8882-76ba108ba3f7",
        "colab": {
          "base_uri": "https://localhost:8080/"
        }
      },
      "source": [
        "inp_index = int(input('Which order of Fibonacci number you want? : '))\n",
        "print(Fibonacci(inp_index))\n",
        "\n",
        "def foo(inp1, inp2, inp3=['aux inp']):\n",
        "  print(inp1,inp2,inp3)\n",
        "\n",
        "print(foo(1, 2,3))"
      ],
      "execution_count": 43,
      "outputs": [
        {
          "output_type": "stream",
          "text": [
            "Which order of Fibonacci number you want? : 3\n",
            "[1, 1, 2]\n",
            "1 2 3\n",
            "None\n"
          ],
          "name": "stdout"
        }
      ]
    },
    {
      "cell_type": "markdown",
      "metadata": {
        "id": "7lCxDwjxHEsa"
      },
      "source": [
        "### Class Definition\n",
        "```\n",
        "class ClassName(ParentClass):\n",
        "    def __init__(self, inp1, inp2, ...):\n",
        "        self.inp1 = inp1\n",
        "        self.inp2 = inp2\n",
        "        ...\n",
        "\n",
        "    def some_function_you_want(self, inp3, inp4):\n",
        "        return something_you_want\n",
        "```"
      ]
    },
    {
      "cell_type": "code",
      "metadata": {
        "id": "IVFLbLj6XZ42"
      },
      "source": [
        "class RockBand(object):\n",
        "    def __init__(self, name, num_members, start_year):\n",
        "        self.name = name\n",
        "        self.num_members = num_members\n",
        "        self.start_year = start_year\n",
        "\n",
        "    def add_new_member(self):\n",
        "        print('One member added to {}.'.format(self.name))\n",
        "        self.num_members += 1\n",
        "    \n",
        "    def remove_one_member(self):\n",
        "        print('One member left from {}.'.format(self.name))\n",
        "        self.num_members -= 1\n",
        "\n",
        "    def change_name(self, new_name):\n",
        "        print('Band will change their name from {} to {}'.format(self.name, new_name))\n",
        "        self.name = new_name\n",
        "\n",
        "    def __str__(self):\n",
        "        return 'Band named %s, has %d members, and started from %d.' % (self.name, self.num_members, self.start_year) "
      ],
      "execution_count": 45,
      "outputs": []
    },
    {
      "cell_type": "code",
      "metadata": {
        "id": "tOiREHIRvda_"
      },
      "source": [
        "import torch\n",
        "class neuralnetwork(torch.nn.Module):\n",
        "  pass"
      ],
      "execution_count": 50,
      "outputs": []
    },
    {
      "cell_type": "code",
      "metadata": {
        "id": "eusxct9lYl_P",
        "outputId": "a1fa34c5-f9fe-4220-99a9-e974a8e2de80",
        "colab": {
          "base_uri": "https://localhost:8080/"
        }
      },
      "source": [
        "queen = RockBand('Queen', 4, 1970)\n",
        "print(queen.num_members)\n",
        "print(queen)\n",
        "\n",
        "led_zeppelin = RockBand('Led Zeppelin', 4, 1968)\n",
        "print(led_zeppelin)\n",
        "\n",
        "queen.remove_one_member()\n",
        "queen.add_new_member()\n",
        "queen.change_name('King')\n",
        "print(queen)"
      ],
      "execution_count": 48,
      "outputs": [
        {
          "output_type": "stream",
          "text": [
            "4\n",
            "Band named Queen, has 4 members, and started from 1970.\n",
            "Band named Led Zeppelin, has 4 members, and started from 1968.\n",
            "One member left from Queen.\n",
            "One member added to Queen.\n",
            "Band will change their name from Queen to King\n",
            "Band named King, has 4 members, and started from 1970.\n"
          ],
          "name": "stdout"
        }
      ]
    },
    {
      "cell_type": "markdown",
      "metadata": {
        "id": "1wAevb_LXaBE"
      },
      "source": [
        "### **This is not the END! you need to also learn about numpy.**"
      ]
    }
  ]
}