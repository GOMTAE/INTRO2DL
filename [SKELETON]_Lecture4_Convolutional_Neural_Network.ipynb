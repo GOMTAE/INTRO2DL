{
  "nbformat": 4,
  "nbformat_minor": 0,
  "metadata": {
    "colab": {
      "name": "[SKELETON] Lecture4_Convolutional_Neural_Network",
      "provenance": [],
      "collapsed_sections": [],
      "include_colab_link": true
    },
    "kernelspec": {
      "name": "python3",
      "display_name": "Python 3"
    },
    "accelerator": "GPU",
    "widgets": {
      "application/vnd.jupyter.widget-state+json": {
        "9474254b3e674624ae5a4f33501d43d3": {
          "model_module": "@jupyter-widgets/controls",
          "model_name": "HBoxModel",
          "state": {
            "_view_name": "HBoxView",
            "_dom_classes": [],
            "_model_name": "HBoxModel",
            "_view_module": "@jupyter-widgets/controls",
            "_model_module_version": "1.5.0",
            "_view_count": null,
            "_view_module_version": "1.5.0",
            "box_style": "",
            "layout": "IPY_MODEL_821202da723d43179d7121f7705ede91",
            "_model_module": "@jupyter-widgets/controls",
            "children": [
              "IPY_MODEL_b9862dba9a3848dc96c35a550663cccd",
              "IPY_MODEL_52fa15e8feda4b27ad8fc83c31f7cd93"
            ]
          }
        },
        "821202da723d43179d7121f7705ede91": {
          "model_module": "@jupyter-widgets/base",
          "model_name": "LayoutModel",
          "state": {
            "_view_name": "LayoutView",
            "grid_template_rows": null,
            "right": null,
            "justify_content": null,
            "_view_module": "@jupyter-widgets/base",
            "overflow": null,
            "_model_module_version": "1.2.0",
            "_view_count": null,
            "flex_flow": null,
            "width": null,
            "min_width": null,
            "border": null,
            "align_items": null,
            "bottom": null,
            "_model_module": "@jupyter-widgets/base",
            "top": null,
            "grid_column": null,
            "overflow_y": null,
            "overflow_x": null,
            "grid_auto_flow": null,
            "grid_area": null,
            "grid_template_columns": null,
            "flex": null,
            "_model_name": "LayoutModel",
            "justify_items": null,
            "grid_row": null,
            "max_height": null,
            "align_content": null,
            "visibility": null,
            "align_self": null,
            "height": null,
            "min_height": null,
            "padding": null,
            "grid_auto_rows": null,
            "grid_gap": null,
            "max_width": null,
            "order": null,
            "_view_module_version": "1.2.0",
            "grid_template_areas": null,
            "object_position": null,
            "object_fit": null,
            "grid_auto_columns": null,
            "margin": null,
            "display": null,
            "left": null
          }
        },
        "b9862dba9a3848dc96c35a550663cccd": {
          "model_module": "@jupyter-widgets/controls",
          "model_name": "FloatProgressModel",
          "state": {
            "_view_name": "ProgressView",
            "style": "IPY_MODEL_36d0bedafc5e402fb9534dac3e022a6b",
            "_dom_classes": [],
            "description": "  0%",
            "_model_name": "FloatProgressModel",
            "bar_style": "",
            "max": 200,
            "_view_module": "@jupyter-widgets/controls",
            "_model_module_version": "1.5.0",
            "value": 1,
            "_view_count": null,
            "_view_module_version": "1.5.0",
            "orientation": "horizontal",
            "min": 0,
            "description_tooltip": null,
            "_model_module": "@jupyter-widgets/controls",
            "layout": "IPY_MODEL_2e48efe9f51049638e6d966afbc160ba"
          }
        },
        "52fa15e8feda4b27ad8fc83c31f7cd93": {
          "model_module": "@jupyter-widgets/controls",
          "model_name": "HTMLModel",
          "state": {
            "_view_name": "HTMLView",
            "style": "IPY_MODEL_f54a883b4a274756802163beadef6672",
            "_dom_classes": [],
            "description": "",
            "_model_name": "HTMLModel",
            "placeholder": "​",
            "_view_module": "@jupyter-widgets/controls",
            "_model_module_version": "1.5.0",
            "value": " 1/200 [00:21&lt;1:12:22, 21.82s/it]",
            "_view_count": null,
            "_view_module_version": "1.5.0",
            "description_tooltip": null,
            "_model_module": "@jupyter-widgets/controls",
            "layout": "IPY_MODEL_a056fcc1d5f94c39837f985cad71c03d"
          }
        },
        "36d0bedafc5e402fb9534dac3e022a6b": {
          "model_module": "@jupyter-widgets/controls",
          "model_name": "ProgressStyleModel",
          "state": {
            "_view_name": "StyleView",
            "_model_name": "ProgressStyleModel",
            "description_width": "initial",
            "_view_module": "@jupyter-widgets/base",
            "_model_module_version": "1.5.0",
            "_view_count": null,
            "_view_module_version": "1.2.0",
            "bar_color": null,
            "_model_module": "@jupyter-widgets/controls"
          }
        },
        "2e48efe9f51049638e6d966afbc160ba": {
          "model_module": "@jupyter-widgets/base",
          "model_name": "LayoutModel",
          "state": {
            "_view_name": "LayoutView",
            "grid_template_rows": null,
            "right": null,
            "justify_content": null,
            "_view_module": "@jupyter-widgets/base",
            "overflow": null,
            "_model_module_version": "1.2.0",
            "_view_count": null,
            "flex_flow": null,
            "width": null,
            "min_width": null,
            "border": null,
            "align_items": null,
            "bottom": null,
            "_model_module": "@jupyter-widgets/base",
            "top": null,
            "grid_column": null,
            "overflow_y": null,
            "overflow_x": null,
            "grid_auto_flow": null,
            "grid_area": null,
            "grid_template_columns": null,
            "flex": null,
            "_model_name": "LayoutModel",
            "justify_items": null,
            "grid_row": null,
            "max_height": null,
            "align_content": null,
            "visibility": null,
            "align_self": null,
            "height": null,
            "min_height": null,
            "padding": null,
            "grid_auto_rows": null,
            "grid_gap": null,
            "max_width": null,
            "order": null,
            "_view_module_version": "1.2.0",
            "grid_template_areas": null,
            "object_position": null,
            "object_fit": null,
            "grid_auto_columns": null,
            "margin": null,
            "display": null,
            "left": null
          }
        },
        "f54a883b4a274756802163beadef6672": {
          "model_module": "@jupyter-widgets/controls",
          "model_name": "DescriptionStyleModel",
          "state": {
            "_view_name": "StyleView",
            "_model_name": "DescriptionStyleModel",
            "description_width": "",
            "_view_module": "@jupyter-widgets/base",
            "_model_module_version": "1.5.0",
            "_view_count": null,
            "_view_module_version": "1.2.0",
            "_model_module": "@jupyter-widgets/controls"
          }
        },
        "a056fcc1d5f94c39837f985cad71c03d": {
          "model_module": "@jupyter-widgets/base",
          "model_name": "LayoutModel",
          "state": {
            "_view_name": "LayoutView",
            "grid_template_rows": null,
            "right": null,
            "justify_content": null,
            "_view_module": "@jupyter-widgets/base",
            "overflow": null,
            "_model_module_version": "1.2.0",
            "_view_count": null,
            "flex_flow": null,
            "width": null,
            "min_width": null,
            "border": null,
            "align_items": null,
            "bottom": null,
            "_model_module": "@jupyter-widgets/base",
            "top": null,
            "grid_column": null,
            "overflow_y": null,
            "overflow_x": null,
            "grid_auto_flow": null,
            "grid_area": null,
            "grid_template_columns": null,
            "flex": null,
            "_model_name": "LayoutModel",
            "justify_items": null,
            "grid_row": null,
            "max_height": null,
            "align_content": null,
            "visibility": null,
            "align_self": null,
            "height": null,
            "min_height": null,
            "padding": null,
            "grid_auto_rows": null,
            "grid_gap": null,
            "max_width": null,
            "order": null,
            "_view_module_version": "1.2.0",
            "grid_template_areas": null,
            "object_position": null,
            "object_fit": null,
            "grid_auto_columns": null,
            "margin": null,
            "display": null,
            "left": null
          }
        }
      }
    }
  },
  "cells": [
    {
      "cell_type": "markdown",
      "metadata": {
        "id": "view-in-github",
        "colab_type": "text"
      },
      "source": [
        "<a href=\"https://colab.research.google.com/github/GOMTAE/INTRO2DL/blob/main/%5BSKELETON%5D_Lecture4_Convolutional_Neural_Network.ipynb\" target=\"_parent\"><img src=\"https://colab.research.google.com/assets/colab-badge.svg\" alt=\"Open In Colab\"/></a>"
      ]
    },
    {
      "cell_type": "markdown",
      "metadata": {
        "id": "kmIOkV65f5S0"
      },
      "source": [
        "### Import Packages\n"
      ]
    },
    {
      "cell_type": "code",
      "metadata": {
        "id": "AU_uqfXvD_ew",
        "colab": {
          "base_uri": "https://localhost:8080/"
        },
        "outputId": "adc97319-88af-473a-d867-2c229020e738"
      },
      "source": [
        "# Load the TensorBoard notebook extension\n",
        "%load_ext tensorboard\n",
        "from tensorflow import summary\n",
        "import tensorflow as tf"
      ],
      "execution_count": 2,
      "outputs": [
        {
          "output_type": "stream",
          "text": [
            "The tensorboard extension is already loaded. To reload it, use:\n",
            "  %reload_ext tensorboard\n"
          ],
          "name": "stdout"
        }
      ]
    },
    {
      "cell_type": "code",
      "metadata": {
        "id": "X1f7bWu9lJtX",
        "colab": {
          "base_uri": "https://localhost:8080/"
        },
        "outputId": "d960add2-593c-4314-a037-91d1a5bbecce"
      },
      "source": [
        "import os #reading files\n",
        "import numpy as np\n",
        "from tqdm.notebook import tqdm\n",
        "\n",
        "import matplotlib.pyplot as plt\n",
        "\n",
        "import torch\n",
        "import torchvision \n",
        "import torch.nn as nn\n",
        "import torch.nn.functional as F\n",
        "import torch.optim as optim\n",
        "from torch.utils.data import Dataset, DataLoader\n",
        "\n",
        "print(torch.__version__) # version of cuda / we dont have to worry about this"
      ],
      "execution_count": 3,
      "outputs": [
        {
          "output_type": "stream",
          "text": [
            "1.7.0+cu101\n"
          ],
          "name": "stdout"
        }
      ]
    },
    {
      "cell_type": "markdown",
      "metadata": {
        "id": "kA3MZRzNHclY"
      },
      "source": [
        "### Import your drive's contents!"
      ]
    },
    {
      "cell_type": "code",
      "metadata": {
        "id": "JXPZ3dc6W3kp",
        "colab": {
          "base_uri": "https://localhost:8080/"
        },
        "outputId": "a1fdee8d-9e28-458f-8aa7-3531fd19a6fa"
      },
      "source": [
        "from google.colab import drive\n",
        "drive.mount('/content/drive')"
      ],
      "execution_count": 4,
      "outputs": [
        {
          "output_type": "stream",
          "text": [
            "Mounted at /content/drive\n"
          ],
          "name": "stdout"
        }
      ]
    },
    {
      "cell_type": "markdown",
      "metadata": {
        "id": "TTj1RldNHgSQ"
      },
      "source": [
        "### Let's load the CIFAR10 dataset\n"
      ]
    },
    {
      "cell_type": "code",
      "metadata": {
        "id": "pcMuF_m9Ev8W",
        "colab": {
          "base_uri": "https://localhost:8080/"
        },
        "outputId": "b1bd1c96-120d-403f-847e-a7b940c2b3eb"
      },
      "source": [
        "data_path = './cifar10'\n",
        "model_dir = './drive/MyDrive/Codes/models'\n",
        "batch_size = 64\n",
        "# USE torchvision.datasets.CIFAR10(...)\n",
        "tensor_transform = torchvision.transforms.ToTensor()\n",
        "train_dataset = torchvision.datasets.CIFAR10(data_path, True, transform = tensor_transform ,download=True)\n",
        "test_dataset = torchvision.datasets.CIFAR10(data_path, False, transform = tensor_transform, download=True)\n",
        "train_dataloader = DataLoader(train_dataset, batch_size, shuffle = True)\n",
        "test_dataloader = DataLoader(test_dataset, batch_size=1, shuffle = False)"
      ],
      "execution_count": 14,
      "outputs": [
        {
          "output_type": "stream",
          "text": [
            "Files already downloaded and verified\n",
            "Files already downloaded and verified\n"
          ],
          "name": "stdout"
        }
      ]
    },
    {
      "cell_type": "code",
      "metadata": {
        "id": "_QKSWMhqpP7x",
        "outputId": "5775aca8-0d83-4095-f86a-0da9e74c1893",
        "colab": {
          "base_uri": "https://localhost:8080/",
          "height": 122
        }
      },
      "source": [
        "train_dataset[0]\n",
        "plt.figure(figsize=(1,1))\n",
        "plt.imshow(train_dataset[0][0].permute(1, 2 ,0)) # D W H -> W H D"
      ],
      "execution_count": 13,
      "outputs": [
        {
          "output_type": "execute_result",
          "data": {
            "text/plain": [
              "<matplotlib.image.AxesImage at 0x7f7fff6872e8>"
            ]
          },
          "metadata": {
            "tags": []
          },
          "execution_count": 13
        },
        {
          "output_type": "display_data",
          "data": {
            "image/png": "[encoded data removed]",
            "text/plain": [
              "<Figure size 72x72 with 1 Axes>"
            ]
          },
          "metadata": {
            "tags": [],
            "needs_background": "light"
          }
        }
      ]
    },
    {
      "cell_type": "markdown",
      "metadata": {
        "id": "PYiku-SxHnA6"
      },
      "source": [
        "### Choose your device - use GPU or not?"
      ]
    },
    {
      "cell_type": "code",
      "metadata": {
        "id": "k44xmCOHHmF4",
        "colab": {
          "base_uri": "https://localhost:8080/"
        },
        "outputId": "4df45fbe-1b5c-4613-d1b3-de187b37b97e"
      },
      "source": [
        "# device = 'cpu'\n",
        "device = 'cuda'\n",
        "print('Current Device : {}'.format(device))"
      ],
      "execution_count": 15,
      "outputs": [
        {
          "output_type": "stream",
          "text": [
            "Current Device : cuda\n"
          ],
          "name": "stdout"
        }
      ]
    },
    {
      "cell_type": "markdown",
      "metadata": {
        "id": "sT_N_IqnIQgQ"
      },
      "source": [
        "### Try to sample out one data point from dataloader"
      ]
    },
    {
      "cell_type": "code",
      "metadata": {
        "id": "RAiU23NUKFl7",
        "colab": {
          "base_uri": "https://localhost:8080/"
        },
        "outputId": "5524868b-61e1-4250-c6ca-a6f6e0346173"
      },
      "source": [
        "sample = next(iter(train_dataloader))\n",
        "# sample = test_dataset[1]\n",
        "print(sample[0].shape)\n",
        "print(sample[1])"
      ],
      "execution_count": 23,
      "outputs": [
        {
          "output_type": "stream",
          "text": [
            "torch.Size([64, 3, 32, 32])\n",
            "tensor([9, 7, 3, 7, 3, 5, 9, 3, 2, 9, 2, 7, 1, 3, 5, 4, 4, 6, 3, 5, 2, 0, 4, 3,\n",
            "        0, 4, 7, 9, 3, 4, 0, 9, 3, 3, 1, 7, 4, 2, 6, 1, 7, 6, 0, 1, 8, 6, 5, 0,\n",
            "        8, 1, 8, 8, 4, 3, 8, 6, 6, 9, 4, 4, 9, 4, 8, 5])\n"
          ],
          "name": "stdout"
        }
      ]
    },
    {
      "cell_type": "code",
      "metadata": {
        "id": "XnDU90xVTpqC",
        "colab": {
          "base_uri": "https://localhost:8080/",
          "height": 113
        },
        "outputId": "b8aab6b6-64c4-4583-be01-3caea94663d4"
      },
      "source": [
        "fig, ax = plt.subplots(1, 10, figsize=(15, 4))\n",
        "print(len(ax))\n",
        "for plot_idx in range(10):\n",
        "    ax[plot_idx].imshow(sample[0][plot_idx].permute(1, 2, 0))\n",
        "    ax[plot_idx].set_title('LABEL : {}'.format(sample[1][plot_idx]))\n",
        "    ax[plot_idx].set_xticks([])\n",
        "    ax[plot_idx].set_yticks([])\n",
        "plt.show()"
      ],
      "execution_count": 27,
      "outputs": [
        {
          "output_type": "stream",
          "text": [
            "10\n"
          ],
          "name": "stdout"
        },
        {
          "output_type": "display_data",
          "data": {
            "image/png": "[encoded data removed]",
            "text/plain": [
              "<Figure size 1080x288 with 10 Axes>"
            ]
          },
          "metadata": {
            "tags": []
          }
        }
      ]
    },
    {
      "cell_type": "markdown",
      "metadata": {
        "id": "LEjuX7lWIYlb"
      },
      "source": [
        "### Define the Multiple Layer Perceptrons"
      ]
    },
    {
      "cell_type": "code",
      "metadata": {
        "id": "Cx-fxCW5JD_w"
      },
      "source": [
        "class CNNs(nn.Module):\n",
        "    def __init__(self, channels=[32, 64, 128], img_size = 32, dim_output=10):\n",
        "        super(CNNs, self).__init__()\n",
        "\n",
        "        # TODO : build a model with three conv layers\n",
        "        # number of channels goes up like : 3 -> 32 -> 64 -> 128\n",
        "        # After the conv, downsample the image with maxpool, so that image size can be reduced\n",
        "        # After the maxpool, add activation (ReLU)\n",
        "        # conv -> pool -> relu -> conv -> pool -> relu -> conv -> pool -> relu # relu pool also possible\n",
        "        # After this, flatten the spatial feature,\n",
        "        # after flattening it, add fully connected layer so that \n",
        "        # (flattened_feature) -> 128 dim feature -> 10 dim output, can be generated\n",
        "\n",
        "        # Try to add batch norm, dropout.\n",
        "        \n",
        "        self.channels = channels\n",
        "        self.conv1 = nn.Conv2d(3, self.channels[0], kernel_size=3, stride=1, padding=1)\n",
        "        self.conv2 = nn.Conv2d(self.channels[0], self.channels[1], kernel_size=3, stride=1, padding=1)\n",
        "        self.conv3 = nn.Conv2d(self.channels[1], self.channels[2], kernel_size=3, stride=1, padding=1)\n",
        "        \n",
        "        self.max_pool = nn.MaxPool2d(kernel_size=2, stride=2)\n",
        "        self.activation = nn.ReLu()\n",
        "        self.fc1 = nn.Linear(self.channels[-1]*(self.img_size//8))**2, 128) #put input dimension by urself\n",
        "        self.fc2 = nn.Linear(128, )\n",
        "        \n",
        "\n",
        "    def forward(self, img):\n",
        "        batch_size = img.shape[0]\n",
        "\n",
        "        print('img shape : ', img.shape)\n",
        "        # 1st block\n",
        "        out = self.conv1(img)\n",
        "        print('out shape after conv1 : ', out.shape)\n",
        "        out = self.max_pool(out)\n",
        "        print('out shape after pool1 : ', out.shape)\n",
        "        out = self.activation(out)\n",
        "        print('out shape after activation : ', out.shape)\n",
        "\n",
        "        # 2nd block\n",
        "        out = self.conv2(out)\n",
        "        print('out shape after conv2 : ', out.shape)\n",
        "        out = self.max_pool(out)\n",
        "        print('out shape after pool2 : ', out.shape)\n",
        "        out = self.activation(out)\n",
        "        print('out shape after activation : ', out.shape)\n",
        "\n",
        "        # 3rd block\n",
        "        out = self.conv2(out)\n",
        "        print('out shape after conv3 : ', out.shape)\n",
        "        out = self.max_pool(out)\n",
        "        print('out shape after pool3 : ', out.shape)\n",
        "        out = self.activation(out)\n",
        "        print('out shape after activation : ', out.shape)\n",
        "\n",
        "        ## Flattening\n",
        "        out = out.view(batch_size, -1)\n",
        "        print\n",
        "\n",
        "        ## Fully connected layer"
      ],
      "execution_count": 36,
      "outputs": []
    },
    {
      "cell_type": "markdown",
      "metadata": {
        "id": "r4hjFl4-IsqO"
      },
      "source": [
        "### Define the Model"
      ]
    },
    {
      "cell_type": "code",
      "metadata": {
        "id": "ZWtw-y-MKuv1",
        "colab": {
          "base_uri": "https://localhost:8080/",
          "height": 362
        },
        "outputId": "47dc4cd1-305e-4b03-c071-089ad2c9df1a"
      },
      "source": [
        "model = CNNs()\n",
        "model = model.to(device)\n",
        "\n",
        "optimizer = optim.Adam(model.parameters(), lr=1e-4)\n",
        "# # weight decay?\n",
        "\n",
        "print(model)\n",
        "print('sample shape : ', sample[0].shape)\n",
        "sample_out = model(sample[0].to(device))"
      ],
      "execution_count": 37,
      "outputs": [
        {
          "output_type": "error",
          "ename": "AttributeError",
          "evalue": "ignored",
          "traceback": [
            "\u001b[0;31m---------------------------------------------------------------------------\u001b[0m",
            "\u001b[0;31mAttributeError\u001b[0m                            Traceback (most recent call last)",
            "\u001b[0;32m<ipython-input-37-c551a37d8ace>\u001b[0m in \u001b[0;36m<module>\u001b[0;34m()\u001b[0m\n\u001b[0;32m----> 1\u001b[0;31m \u001b[0mmodel\u001b[0m \u001b[0;34m=\u001b[0m \u001b[0mCNNs\u001b[0m\u001b[0;34m(\u001b[0m\u001b[0;34m)\u001b[0m\u001b[0;34m\u001b[0m\u001b[0;34m\u001b[0m\u001b[0m\n\u001b[0m\u001b[1;32m      2\u001b[0m \u001b[0mmodel\u001b[0m \u001b[0;34m=\u001b[0m \u001b[0mmodel\u001b[0m\u001b[0;34m.\u001b[0m\u001b[0mto\u001b[0m\u001b[0;34m(\u001b[0m\u001b[0mdevice\u001b[0m\u001b[0;34m)\u001b[0m\u001b[0;34m\u001b[0m\u001b[0;34m\u001b[0m\u001b[0m\n\u001b[1;32m      3\u001b[0m \u001b[0;34m\u001b[0m\u001b[0m\n\u001b[1;32m      4\u001b[0m \u001b[0;31m# optimizer = optim.Adam(model.parameters(), lr=1e-4)\u001b[0m\u001b[0;34m\u001b[0m\u001b[0;34m\u001b[0m\u001b[0;34m\u001b[0m\u001b[0m\n\u001b[1;32m      5\u001b[0m \u001b[0;31m# # weight decay?\u001b[0m\u001b[0;34m\u001b[0m\u001b[0;34m\u001b[0m\u001b[0;34m\u001b[0m\u001b[0m\n",
            "\u001b[0;32m<ipython-input-36-560df7498179>\u001b[0m in \u001b[0;36m__init__\u001b[0;34m(self, channels, img_size, dim_output)\u001b[0m\n\u001b[1;32m     20\u001b[0m \u001b[0;34m\u001b[0m\u001b[0m\n\u001b[1;32m     21\u001b[0m         \u001b[0mself\u001b[0m\u001b[0;34m.\u001b[0m\u001b[0mmax_pool\u001b[0m \u001b[0;34m=\u001b[0m \u001b[0mnn\u001b[0m\u001b[0;34m.\u001b[0m\u001b[0mMaxPool2d\u001b[0m\u001b[0;34m(\u001b[0m\u001b[0mkernel_size\u001b[0m\u001b[0;34m=\u001b[0m\u001b[0;36m2\u001b[0m\u001b[0;34m,\u001b[0m \u001b[0mstride\u001b[0m\u001b[0;34m=\u001b[0m\u001b[0;36m2\u001b[0m\u001b[0;34m)\u001b[0m\u001b[0;34m\u001b[0m\u001b[0;34m\u001b[0m\u001b[0m\n\u001b[0;32m---> 22\u001b[0;31m         \u001b[0mself\u001b[0m\u001b[0;34m.\u001b[0m\u001b[0mactivation\u001b[0m \u001b[0;34m=\u001b[0m \u001b[0mnn\u001b[0m\u001b[0;34m.\u001b[0m\u001b[0mReLu\u001b[0m\u001b[0;34m(\u001b[0m\u001b[0;34m)\u001b[0m\u001b[0;34m\u001b[0m\u001b[0;34m\u001b[0m\u001b[0m\n\u001b[0m\u001b[1;32m     23\u001b[0m         \u001b[0mself\u001b[0m\u001b[0;34m.\u001b[0m\u001b[0mfc1\u001b[0m \u001b[0;34m=\u001b[0m \u001b[0;34m...\u001b[0m\u001b[0;34m\u001b[0m\u001b[0;34m\u001b[0m\u001b[0m\n\u001b[1;32m     24\u001b[0m         \u001b[0mself\u001b[0m\u001b[0;34m.\u001b[0m\u001b[0mfc2\u001b[0m \u001b[0;34m=\u001b[0m \u001b[0;34m...\u001b[0m\u001b[0;34m\u001b[0m\u001b[0;34m\u001b[0m\u001b[0m\n",
            "\u001b[0;31mAttributeError\u001b[0m: module 'torch.nn' has no attribute 'ReLu'"
          ]
        }
      ]
    },
    {
      "cell_type": "markdown",
      "metadata": {
        "id": "DUSpLgVXIwqG"
      },
      "source": [
        "### Define functions for train/test"
      ]
    },
    {
      "cell_type": "code",
      "metadata": {
        "id": "Q9pXkpAMK42y"
      },
      "source": [
        "def train(model, optimizer, sample):\n",
        "    model.train()\n",
        "\n",
        "    criterion = nn.CrossEntropyLoss()\n",
        "    \n",
        "    # reset optimizer's gradient\n",
        "    optimizer.zero_grad()\n",
        "\n",
        "    # define input and output\n",
        "    img = sample[0].float().to(device)\n",
        "    label = sample[1].long().to(device)\n",
        "    \n",
        "    # get the prediction\n",
        "    pred = model(img) # B 10 (Batchsize and output dim)\n",
        "\n",
        "    pred_loss = criterion(pred, label)\n",
        "    \n",
        "    # Try to add the regularization loss!\n",
        "\n",
        "    num_correct = sum(torch.argmax(pred, dim=1) == label)\n",
        "    \n",
        "    pred_loss.backward()\n",
        "    optimizer.step()\n",
        "\n",
        "    return pred_loss.item(), num_correct.item()"
      ],
      "execution_count": 38,
      "outputs": []
    },
    {
      "cell_type": "code",
      "metadata": {
        "id": "MhcKwq8WOUGu"
      },
      "source": [
        "def test(model, sample):\n",
        "    model.eval()\n",
        "\n",
        "    criterion = nn.CrossEntropyLoss()\n",
        "    \n",
        "    with torch.no_grad():\n",
        "        # define input and output\n",
        "        img = ...\n",
        "        label = ...\n",
        "        \n",
        "        # get the prediction\n",
        "        pred = model(img)\n",
        "        \n",
        "        pred_loss = criterion(pred, label)\n",
        "\n",
        "        num_correct = sum(torch.argmax(pred, dim=1) == label)\n",
        "\n",
        "    return pred_loss.item(), num_correct.item()"
      ],
      "execution_count": null,
      "outputs": []
    },
    {
      "cell_type": "markdown",
      "metadata": {
        "id": "GjfAYAPsI2j4"
      },
      "source": [
        "### Prepare the Tensorboard"
      ]
    },
    {
      "cell_type": "code",
      "metadata": {
        "id": "DLjrayaAMyb5"
      },
      "source": [
        "train_log_dir = './runs/train_normal'\n",
        "train_summary_writer = summary.create_file_writer(train_log_dir)\n",
        "test_log_dir = './runs/test_normal'\n",
        "test_summary_writer = summary.create_file_writer(test_log_dir)  #conventional memorize!"
      ],
      "execution_count": null,
      "outputs": []
    },
    {
      "cell_type": "code",
      "metadata": {
        "id": "rb5fy_VVRjUT",
        "colab": {
          "base_uri": "https://localhost:8080/",
          "height": 821
        },
        "outputId": "72e74ab2-9e83-495b-e7ec-fc02935a1b9f"
      },
      "source": [
        "%tensorboard --logdir runs"
      ],
      "execution_count": null,
      "outputs": []
    },
    {
      "cell_type": "markdown",
      "metadata": {
        "id": "T23Toz8vI7Gu"
      },
      "source": [
        "### Run Training"
      ]
    },
    {
      "cell_type": "code",
      "metadata": {
        "id": "-kTrpt4YMRS6",
        "colab": {
          "base_uri": "https://localhost:8080/",
          "height": 49,
          "referenced_widgets": [
            "9474254b3e674624ae5a4f33501d43d3",
            "821202da723d43179d7121f7705ede91",
            "b9862dba9a3848dc96c35a550663cccd",
            "52fa15e8feda4b27ad8fc83c31f7cd93",
            "36d0bedafc5e402fb9534dac3e022a6b",
            "2e48efe9f51049638e6d966afbc160ba",
            "f54a883b4a274756802163beadef6672",
            "a056fcc1d5f94c39837f985cad71c03d"
          ]
        },
        "outputId": "4060291d-1450-450c-efbb-9406534d6a59"
      },
      "source": [
        "max_epoch = 200\n",
        "tmp_path = './checkpoint.pth'\n",
        "\n",
        "for epoch in tqdm(range(max_epoch)):        \n",
        "    ###Train Phase\n",
        "    \n",
        "    # Initialize Loss and Accuracy\n",
        "    train_loss = 0.0\n",
        "    train_accu = 0.0\n",
        "\n",
        "    # Load the saved MODEL AND OPTIMIZER after evaluation.\n",
        "    if epoch > 0:\n",
        "        checkpoint = torch.load(tmp_path)\n",
        "        model.load_state_dict(checkpoint['model_state_dict'])\n",
        "        optimizer.load_state_dict(checkpoint['optimizer_state_dict'])\n",
        "        # how about learning rate scheduler?\n",
        "\n",
        "    # Iterate over the train_dataloader\n",
        "    for idx, sample in enumerate(train_dataloader):\n",
        "        curr_loss, num_correct = train(model, optimizer, sample)\n",
        "        train_loss += curr_loss / len(train_dataloader)\n",
        "        train_accu += num_correct / len(train_dataset)\n",
        "\n",
        "    # Write the current loss and accuracy to the Tensorboard\n",
        "    with train_summary_writer.as_default():\n",
        "        tf.summary.scalar('loss', train_loss, step=epoch)                \n",
        "        tf.summary.scalar('accuracy', train_accu, step=epoch)                \n",
        "\n",
        "    # save the model and optimizer's information before the evaulation\n",
        "    checkpoint = {\n",
        "        'model_state_dict': model.state_dict(),\n",
        "        'optimizer_state_dict': optimizer.state_dict(),\n",
        "        # how about learning rate scheduler?\n",
        "    }\n",
        "    torch.save(checkpoint, tmp_path)\n",
        "    torch.save(model.state_dict(), os.path.join(model_dir, 'recent.pth'))\n",
        "    \n",
        "    ### Test Phase\n",
        "    # Initialize Loss and Accuracy\n",
        "    test_loss = 0.0\n",
        "    test_accu = 0.0\n",
        "\n",
        "    # Iterate over the test_dataloader\n",
        "    for idx, sample in enumerate(test_dataloader):\n",
        "        curr_loss, num_correct = test(model, sample)\n",
        "        test_loss += curr_loss / len(test_dataloader)\n",
        "        test_accu += num_correct / len(test_dataloader)\n",
        "\n",
        "    # Write the current loss and accuracy to the Tensorboard\n",
        "    with test_summary_writer.as_default():\n",
        "        tf.summary.scalar('loss', test_loss, step=epoch)\n",
        "        tf.summary.scalar('accuracy', test_accu, step=epoch) "
      ],
      "execution_count": null,
      "outputs": [
        {
          "output_type": "display_data",
          "data": {
            "application/vnd.jupyter.widget-view+json": {
              "model_id": "9474254b3e674624ae5a4f33501d43d3",
              "version_minor": 0,
              "version_major": 2
            },
            "text/plain": [
              "HBox(children=(FloatProgress(value=0.0, max=200.0), HTML(value='')))"
            ]
          },
          "metadata": {
            "tags": []
          }
        }
      ]
    },
    {
      "cell_type": "code",
      "metadata": {
        "id": "dOeYopHTkhvJ"
      },
      "source": [
        ""
      ],
      "execution_count": null,
      "outputs": []
    }
  ]
}